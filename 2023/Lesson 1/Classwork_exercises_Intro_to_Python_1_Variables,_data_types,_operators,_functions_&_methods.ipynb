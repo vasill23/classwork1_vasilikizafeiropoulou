{
  "nbformat": 4,
  "nbformat_minor": 0,
  "metadata": {
    "colab": {
      "provenance": []
    },
    "kernelspec": {
      "name": "python3",
      "display_name": "Python 3"
    },
    "language_info": {
      "name": "python"
    }
  },
  "cells": [
    {
      "cell_type": "markdown",
      "source": [
        "#Ασκήσεις του μαθήματος \"Εισαγωγή στην Python 1 - Variables, data types (integers, floats, stings, boolean, lists, dictionaries), mathematical & comparison operators, functions & methods"
      ],
      "metadata": {
        "id": "eZ6s1jOQBAty"
      }
    },
    {
      "cell_type": "markdown",
      "source": [
        "\n",
        "\n",
        "---\n",
        "\n",
        "\n",
        "####**Άσκηση 2** (Προαιρετικά)\n",
        "\n",
        "**Try yourself**: Φτιάξτε ένα νέο κελί κώδικα (Code cell) ακριβώς κάτω από αυτό και δημιουργήστε μεταβλητές με τα στοιχεία σας:\n",
        "\n",
        "*   το μικρό σας όνομα\n",
        "*   το επίθετό σας\n",
        "*   το email σας\n",
        "*   το εξάμηνό σας\n",
        "*   τυπώστε όλα μαζί τα παραπάνω στην οθόνη"
      ],
      "metadata": {
        "id": "wiiXoX3tfVML"
      }
    },
    {
      "cell_type": "code",
      "source": [
        "name= \"Vasiliki\"\n",
        "lastname= \"Zafeiropoulou\"\n",
        "email=\"vzafeiropoulou08@gmail.com\"\n",
        "semester=\"8\"\n",
        "print(name,lastname,email,semester)\n"
      ],
      "metadata": {
        "colab": {
          "base_uri": "https://localhost:8080/"
        },
        "id": "SheaL4r_2Qml",
        "outputId": "6ed61d56-d740-412e-c209-cac5854bde31"
      },
      "execution_count": 1,
      "outputs": [
        {
          "output_type": "stream",
          "name": "stdout",
          "text": [
            "Vasiliki Zafeiropoulou vzafeiropoulou08@gmail.com 8\n"
          ]
        }
      ]
    },
    {
      "cell_type": "markdown",
      "source": [
        "\n",
        "\n",
        "---\n",
        "\n",
        "####**Άσκηση 3**\n",
        "\n",
        "**Try yourself**: Φτιάξτε ένα νέο κελί κώδικα (Code cell) ακριβώς κάτω από αυτό και κάνετε τα παρακάτω:\n",
        "\n",
        "* δημιουργήστε 3 μεταβλητές, όπου η καθεμιά θα έχει τη θερμοκρασία του αέρα όπως την καταγράψαμε το πρωί, το μεσημέρι και το βράδυ\n",
        "* βρείτε το μέσο όρο των θερμοκρασιών\n",
        "* βρείτε τη μέγιστη διαφορά των θερμοκρασιών\n",
        "* δημιουργήστε μια νέα μεταβλητή που θα περιέχει την τιμή της μέσης θερμοκρασίας σε ακέραιο\n",
        "* ελέγξτε τα αποτελέσματα τυπώνοντάς τα στην οθόνη\n"
      ],
      "metadata": {
        "id": "yrhDlp7r8Jsi"
      }
    },
    {
      "cell_type": "code",
      "source": [
        "prwi= 25\n",
        "meshmeri=30\n",
        "vradi=19\n",
        "thermokrasies=(prwi+meshmeri+vradi)\n",
        "MO_therm= thermokrasies/2\n",
        "meg_diafora=meshmeri-vradi\n",
        "MO_therm_int= int(MO_therm)\n",
        "print(\"Ο ΜΕΣΟΣ ΟΡΟΣ ΤΩΝ ΘΕΡΜΟΚΡΑΣΙΩΝ ΕΙΝΑΙ:\", MO_therm)\n",
        "print(\"Η ΜΕΓΙΣΤΗ ΔΙΑΦΟΡΑ ΕΙΝΑΙ:\", meg_diafora)\n",
        "print(\"Ο ΑΚΕΡΑΙΟΣ Μ.Ο. ΕΙΝΑΙ:\", MO_therm_int)"
      ],
      "metadata": {
        "colab": {
          "base_uri": "https://localhost:8080/"
        },
        "id": "a4ESfFcj3AQZ",
        "outputId": "f488d0f0-2aff-4b9a-91c9-199acde48894"
      },
      "execution_count": 9,
      "outputs": [
        {
          "output_type": "stream",
          "name": "stdout",
          "text": [
            "Ο ΜΕΣΟΣ ΟΡΟΣ ΤΩΝ ΘΕΡΜΟΚΡΑΣΙΩΝ ΕΙΝΑΙ: 37.0\n",
            "Η ΜΕΓΙΣΤΗ ΔΙΑΦΟΡΑ ΕΙΝΑΙ: 11\n",
            "Ο ΑΚΕΡΑΙΟΣ Μ.Ο. ΕΙΝΑΙ: 37\n"
          ]
        }
      ]
    },
    {
      "cell_type": "markdown",
      "source": [
        "\n",
        "\n",
        "---\n",
        "\n",
        "####**Άσκηση 4**\n",
        "\n",
        "**Try yourself**: Φτιάξτε ένα νέο κελί κώδικα (Code cell) ακριβώς κάτω από αυτό και κάνετε τα παρακάτω:\n",
        "\n",
        "* δημιουργήστε μια μεταβλητή με την πόλη που μένετε και μία με το αγαπημένο σας ταξιδιωτικό προορισμό\n",
        "* ελέγξτε την ομοιότητα του τύπου των μεταβλητών\n",
        "* ελέγξτε την ισότητα των μεταβλητών\n",
        "* ελέγξτε αν η μεταβλητή της πόλης είναι μικρότερη της μεταβλητής του ταξιδιωτικού προορισμού\n",
        "\n",
        "Τι νομίζετε ότι σημαίνει ότι ένα string είναι μεγαλύτερο, μικρότερο ή ίσο με ένα άλλο; (Γράψτε την απάντησή σας σε ένα νέο text cell ή σε ένα code cell σαν σχόλιο)\n"
      ],
      "metadata": {
        "id": "pg9-mk1eTq2l"
      }
    },
    {
      "cell_type": "code",
      "source": [
        "hometown= \"Athens\"\n",
        "dreamPlace= \"Iceland\"\n",
        "type(hometown)== type(dreamPlace)\n"
      ],
      "metadata": {
        "colab": {
          "base_uri": "https://localhost:8080/"
        },
        "id": "CeqECT637rdA",
        "outputId": "ce9b2cd2-d938-451a-bcea-c22f444ce106"
      },
      "execution_count": 81,
      "outputs": [
        {
          "output_type": "execute_result",
          "data": {
            "text/plain": [
              "True"
            ]
          },
          "metadata": {},
          "execution_count": 81
        }
      ]
    },
    {
      "cell_type": "code",
      "source": [
        "hometown==dreamPlace"
      ],
      "metadata": {
        "colab": {
          "base_uri": "https://localhost:8080/"
        },
        "id": "pnepNSdM-C5X",
        "outputId": "5c352442-8309-4a78-9d9e-c42682f4fda5"
      },
      "execution_count": 75,
      "outputs": [
        {
          "output_type": "execute_result",
          "data": {
            "text/plain": [
              "False"
            ]
          },
          "metadata": {},
          "execution_count": 75
        }
      ]
    },
    {
      "cell_type": "code",
      "source": [
        "hometown < dreamPlace\n"
      ],
      "metadata": {
        "colab": {
          "base_uri": "https://localhost:8080/"
        },
        "id": "lAaudOVc_iu3",
        "outputId": "862a4670-19d7-4cd9-caaa-1742f33de214"
      },
      "execution_count": 82,
      "outputs": [
        {
          "output_type": "execute_result",
          "data": {
            "text/plain": [
              "True"
            ]
          },
          "metadata": {},
          "execution_count": 82
        }
      ]
    },
    {
      "cell_type": "markdown",
      "source": [
        "μήπως όταν συγκρίνουμε 2 str, το μέτρο σύγκρισης είναι τα γράμματα που αποτελούν το str και όπως με τους αριθμούς υπάρχει μια σειρά ιεράρχησης των γραμμάτων ή των συνδυασμών των γραμμάτων που καθιστούν μια λέξη μεγαλύτερης ή μικρότερης αξίας ανάλογα."
      ],
      "metadata": {
        "id": "Z_ImN19rD48q"
      }
    },
    {
      "cell_type": "markdown",
      "source": [
        "\n",
        "\n",
        "---\n",
        "\n",
        "####**Άσκηση 5**\n",
        "\n",
        "**Try yourself**: Φτιάξτε ένα νέο κελί κώδικα (Code cell) ακριβώς κάτω από αυτό και κάνετε τα παρακάτω:\n",
        "\n",
        "* δημιουργήστε μια μεταβλητή με τιμή την datetime ημερομηνία δημοσίευσης ενός άρθρου: 2023-03-24T12:07:19+02:00\n",
        "* απομονώστε την ημερομηνία και αποθηκεύστε τη σε μια μεταβλητή με κατάλληλο όνομα\n",
        "* τυπώστε την ημερομηνία\n",
        "* φτιάξτε ένα νέο code cell\n",
        "* αποθηκεύστε σε διαφορετικές μεταβλητές το έτος, το μήνα και την ημέρα (**tip**: κάντε το ένα ένα και τυπώνετε για να βλέπετε αν το κάνετε σωστά)\n",
        "* φτιάξτε ένα νέο code cell\n",
        "* απομονώστε την ώρα (το 12:07:19) και αποθηκεύστε τη σε μια νέα μεταβλητή \n",
        "* φτιάξτε ένα νέο code cell\n",
        "* χρησιμοποιώντας τις μεταβλητές που φτιάξατε, δημιουργήστε μια νέα μεταβλητή με όνομα custom_daytime που θα περιέχει: <ημέρα>/<μήνας>/<έτος>, ώρα: <ώρα>\n",
        "* και τυπώστε τη στην οθόνη"
      ],
      "metadata": {
        "id": "jIk9BoTu-f05"
      }
    },
    {
      "cell_type": "code",
      "source": [
        "articleSdatetime=\"2023-03-24T12:07:19+02:00\"\n",
        "date= articleSdatetime[0:10]\n",
        "print(date)"
      ],
      "metadata": {
        "id": "a5VFoGDxjvt6",
        "outputId": "ae2562e1-b74a-4517-ece9-8033cee56283",
        "colab": {
          "base_uri": "https://localhost:8080/"
        }
      },
      "execution_count": 158,
      "outputs": [
        {
          "output_type": "stream",
          "name": "stdout",
          "text": [
            "2023-03-24\n"
          ]
        }
      ]
    },
    {
      "cell_type": "code",
      "source": [
        "year=date[0:4]\n",
        "month=date[5:7]\n",
        "day=date[8:]\n",
        "print(year, month, day)"
      ],
      "metadata": {
        "id": "MwbRkr7Gk61r",
        "outputId": "3fd8b0dc-a9ac-4b71-ab5b-f8edb3334da0",
        "colab": {
          "base_uri": "https://localhost:8080/"
        }
      },
      "execution_count": 164,
      "outputs": [
        {
          "output_type": "stream",
          "name": "stdout",
          "text": [
            "2023 03 24\n"
          ]
        }
      ]
    },
    {
      "cell_type": "code",
      "source": [
        "articleSdatetime.index(\"T\")\n"
      ],
      "metadata": {
        "id": "QmWN6pqRnsRW",
        "outputId": "3d90407f-0907-424e-e878-17d54deb48b6",
        "colab": {
          "base_uri": "https://localhost:8080/"
        }
      },
      "execution_count": 168,
      "outputs": [
        {
          "output_type": "execute_result",
          "data": {
            "text/plain": [
              "10"
            ]
          },
          "metadata": {},
          "execution_count": 168
        }
      ]
    },
    {
      "cell_type": "code",
      "source": [
        "articleSdatetime.index(\"+\")"
      ],
      "metadata": {
        "id": "5tQRKlcsoLAC",
        "outputId": "da737709-6492-41f5-9a82-4843ca620aff",
        "colab": {
          "base_uri": "https://localhost:8080/"
        }
      },
      "execution_count": 169,
      "outputs": [
        {
          "output_type": "execute_result",
          "data": {
            "text/plain": [
              "19"
            ]
          },
          "metadata": {},
          "execution_count": 169
        }
      ]
    },
    {
      "cell_type": "code",
      "source": [
        "time= articleSdatetime[11:19]\n",
        "print(time)"
      ],
      "metadata": {
        "id": "olEAGYLMoaZE",
        "outputId": "b6ef2325-1be3-4b97-a99f-5de7a61091f9",
        "colab": {
          "base_uri": "https://localhost:8080/"
        }
      },
      "execution_count": 171,
      "outputs": [
        {
          "output_type": "stream",
          "name": "stdout",
          "text": [
            "12:07:19\n"
          ]
        }
      ]
    },
    {
      "cell_type": "code",
      "source": [
        "custom_datetime=day+\"/\"+month+\"/\"+year+\",\"+ str(\"ώρα:\")+ time\n",
        "print(custom_datetime)"
      ],
      "metadata": {
        "id": "BCZ9tldooNJ5",
        "outputId": "e10a3d5e-0cbf-4457-f44f-2b870a773ef0",
        "colab": {
          "base_uri": "https://localhost:8080/"
        }
      },
      "execution_count": 178,
      "outputs": [
        {
          "output_type": "stream",
          "name": "stdout",
          "text": [
            "24/03/2023,ώρα:12:07:19\n"
          ]
        }
      ]
    },
    {
      "cell_type": "markdown",
      "source": [
        "\n",
        "\n",
        "---\n",
        "\n",
        "####**Άσκηση 6**\n",
        "\n",
        "**Try yourself**: Φτιάξτε ένα νέο κελί κώδικα (Code cell) ακριβώς κάτω από αυτό και κάνετε τα παρακάτω:\n",
        "\n",
        "1. Δημιουργήστε μια κενή λίστα με όνομα usersL\n",
        "2. Φτιάξτε μια μεταβλητή με όνομα email1 και τιμή ένα email\n",
        "3. Βρείτε το index του \"@\" (με function) και αποθηκεύστε το σε μια μεταβλητή με όνομα at1\n",
        "4. Πάρτε (slice) το τμήμα του mail που έχει μόνο το όνομα, αποθηκεύστε το σε μια μεταβλητή με όνομα user1 και βάλτε το στη λίστα usersL\n",
        "5. Επαναλάβετε τα βήματα 2-4 άλλη 1 φορά (κάντε copy-paste και αλλάξτε ό,τι χρειάεται)\n",
        "6. Ταξινομήστε τα περιεχόμενα της λίστας με αύξουσα σειρά και\n",
        "7. Τυπώστε τα περιεχόμενά της στην οθόνη\n",
        "\n",
        "**Tip**: χρησιμοποιήστε όσα κελιά θέλετε έτσι ώστε να ελέγχετε τι κάνετε σε κάθε βήμα"
      ],
      "metadata": {
        "id": "_agWj9vpdYL9"
      }
    },
    {
      "cell_type": "code",
      "source": [
        "userL=[]"
      ],
      "metadata": {
        "id": "eCQPQa48RHcd"
      },
      "execution_count": 106,
      "outputs": []
    },
    {
      "cell_type": "code",
      "source": [
        "email1= \"vasiliki@gmail.com\""
      ],
      "metadata": {
        "id": "oYNEwWIkRYh-"
      },
      "execution_count": 107,
      "outputs": []
    },
    {
      "cell_type": "code",
      "source": [
        "email1.index(\"@\")\n"
      ],
      "metadata": {
        "colab": {
          "base_uri": "https://localhost:8080/"
        },
        "id": "oeiYzaM-SHdd",
        "outputId": "84441b4b-58c0-4953-b13b-3a3dd4744a17"
      },
      "execution_count": 108,
      "outputs": [
        {
          "output_type": "execute_result",
          "data": {
            "text/plain": [
              "8"
            ]
          },
          "metadata": {},
          "execution_count": 108
        }
      ]
    },
    {
      "cell_type": "code",
      "source": [
        "at1= 8"
      ],
      "metadata": {
        "id": "fe2DHwgNSlK5"
      },
      "execution_count": 109,
      "outputs": []
    },
    {
      "cell_type": "code",
      "source": [
        "user1=email1[0:8]\n",
        "print(user1)"
      ],
      "metadata": {
        "colab": {
          "base_uri": "https://localhost:8080/"
        },
        "id": "fBSKqA6jTObJ",
        "outputId": "19e86bf9-4ab3-484b-c538-fc565287c3cc"
      },
      "execution_count": 110,
      "outputs": [
        {
          "output_type": "stream",
          "name": "stdout",
          "text": [
            "vasiliki\n"
          ]
        }
      ]
    },
    {
      "cell_type": "code",
      "source": [
        "userL.append(user1)\n"
      ],
      "metadata": {
        "id": "TeHo1WR5Vd8p"
      },
      "execution_count": 111,
      "outputs": []
    },
    {
      "cell_type": "code",
      "source": [
        "userL"
      ],
      "metadata": {
        "colab": {
          "base_uri": "https://localhost:8080/"
        },
        "id": "KGtDh7gHWKHo",
        "outputId": "c6e002d5-617c-4aec-e53c-546d4a3a215f"
      },
      "execution_count": 112,
      "outputs": [
        {
          "output_type": "execute_result",
          "data": {
            "text/plain": [
              "['vasiliki']"
            ]
          },
          "metadata": {},
          "execution_count": 112
        }
      ]
    },
    {
      "cell_type": "code",
      "source": [
        "email2= \"maria08@gmail.com\"\n",
        "email2.index(\"@\")\n"
      ],
      "metadata": {
        "colab": {
          "base_uri": "https://localhost:8080/"
        },
        "id": "wEJvhQxUTf8c",
        "outputId": "69d43605-cba9-4458-cdda-c30a294c9c51"
      },
      "execution_count": 122,
      "outputs": [
        {
          "output_type": "execute_result",
          "data": {
            "text/plain": [
              "7"
            ]
          },
          "metadata": {},
          "execution_count": 122
        }
      ]
    },
    {
      "cell_type": "code",
      "source": [
        "at2=16"
      ],
      "metadata": {
        "id": "ZUONH_ScW_6Y"
      },
      "execution_count": 116,
      "outputs": []
    },
    {
      "cell_type": "code",
      "source": [
        "user2=email2[0:5]\n",
        "print(user2)\n",
        "userL.append(user2)\n",
        "print(userL)"
      ],
      "metadata": {
        "colab": {
          "base_uri": "https://localhost:8080/"
        },
        "id": "ERqOaut1XFCE",
        "outputId": "bcc8e718-61d7-4512-d800-b9ac2e0c33e4"
      },
      "execution_count": 120,
      "outputs": [
        {
          "output_type": "stream",
          "name": "stdout",
          "text": [
            "maria\n",
            "['vasiliki', 'maria']\n"
          ]
        }
      ]
    },
    {
      "cell_type": "code",
      "source": [
        "email3= \"zafkwstas@gmail.com\"\n",
        "email3.index(\"@\")"
      ],
      "metadata": {
        "colab": {
          "base_uri": "https://localhost:8080/"
        },
        "id": "DCeQys2xXjD4",
        "outputId": "5269d5c2-725f-4814-ca00-fa87cc11e8ba"
      },
      "execution_count": 123,
      "outputs": [
        {
          "output_type": "execute_result",
          "data": {
            "text/plain": [
              "9"
            ]
          },
          "metadata": {},
          "execution_count": 123
        }
      ]
    },
    {
      "cell_type": "code",
      "source": [
        "at3= 9"
      ],
      "metadata": {
        "id": "-gAIWnIuYKSm"
      },
      "execution_count": 124,
      "outputs": []
    },
    {
      "cell_type": "code",
      "source": [
        "user3=email3[3:9]\n",
        "print(user3)\n",
        "userL.append(user3)\n",
        "print(userL)"
      ],
      "metadata": {
        "colab": {
          "base_uri": "https://localhost:8080/"
        },
        "id": "pHF_vtGRYNyG",
        "outputId": "a62c1bcc-0aa1-4613-b11b-f2cf05d75cba"
      },
      "execution_count": 125,
      "outputs": [
        {
          "output_type": "stream",
          "name": "stdout",
          "text": [
            "kwstas\n",
            "['vasiliki', 'maria', 'kwstas']\n"
          ]
        }
      ]
    },
    {
      "cell_type": "code",
      "source": [
        "userL_sorted= sorted(userL)\n",
        "print(userL_sorted)"
      ],
      "metadata": {
        "colab": {
          "base_uri": "https://localhost:8080/"
        },
        "id": "Cy8vWIABYpvP",
        "outputId": "24df3507-0dcf-469c-aaf9-4aa060d973ef"
      },
      "execution_count": 127,
      "outputs": [
        {
          "output_type": "stream",
          "name": "stdout",
          "text": [
            "['kwstas', 'maria', 'vasiliki']\n"
          ]
        }
      ]
    },
    {
      "cell_type": "markdown",
      "source": [
        "\n",
        "\n",
        "---\n",
        "\n",
        "####**Άσκηση 7**\n",
        "\n",
        "**Try yourself**: Σ' αυτή την άσκηση θα φτιάξουμε μια λίστα στην οποία θα αποθηκεύουμε δίάφορα δεδομένα από άρθρα που δημοσιεύονται σε sites.\n",
        "\n",
        "Φτιάξτε ένα νέο κελί κώδικα (Code cell) ακριβώς κάτω από αυτό και κάνετε τα παρακάτω:\n",
        "\n",
        "1. Δημιουργήστε μια κενή λίστα όπου θα αποθηκεύετε τα δεδομένα των άρθρων\n",
        "2. Δημιουργήστε ένα λεξικό με τα στοιχεία του πρώτου άρθρου που θα συλλέξετε από ένα site: \"Τίτλος\", \"Ημερομηνία\", \"Κατηγορία\", \"url\"\n",
        "3. Επαναλάβετε το 2 για ακόμα ένα άρθρο\n",
        "4. Προσθέστε τα λεξικά στη λίστα.\n",
        "5. Τυπώστε στην οθόνη τον τίτλο του 2ου άρθρου\n",
        "6. Προσθέστε και στα 2 άρθρα μια εγγραφή με το όνομα του αντίστοιχου site που πήρατε το άρθρο\n",
        "7. Τυπώστε στην οθόνη το πλήθος των λεξικών που έχει η λίστα.\n",
        "\n",
        "**Tip**:Δουλέψτε τμηματικά και ελέγχετε σε κάθε βήμα αυτό που κάνετε."
      ],
      "metadata": {
        "id": "KpVX9pHLNgB6"
      }
    },
    {
      "cell_type": "code",
      "source": [
        "articleData=[]"
      ],
      "metadata": {
        "id": "mDgtiuFqZK8F"
      },
      "execution_count": 146,
      "outputs": []
    },
    {
      "cell_type": "code",
      "source": [
        "data_dict1={\"Τίτλος\":\"Κολωνός: Παρέμβαση Αρείου Πάγου για αυξημένη επιτήρηση της 12χρονης\",\n",
        "            \"Ημερομηνία\":\"04.04.2023\", \n",
        "            \"Κατηγορία\":\"Πολιτική\",\n",
        "            \"URL\":\"https://www.documentonews.gr/article/kolonos-paremvasi-areioy-pagoy-gia-ayximeni-epitirisi-tis-12xronis/\"}\n",
        "print(data_dict1)"
      ],
      "metadata": {
        "colab": {
          "base_uri": "https://localhost:8080/"
        },
        "id": "SS-Vw3itZZQ9",
        "outputId": "1f7917c7-3078-454c-a8a2-f2c788460e1b"
      },
      "execution_count": 147,
      "outputs": [
        {
          "output_type": "stream",
          "name": "stdout",
          "text": [
            "{'Τίτλος': 'Κολωνός: Παρέμβαση Αρείου Πάγου για αυξημένη επιτήρηση της 12χρονης', 'Ημερομηνία': '04.04.2023', 'Κατηγορία': 'Πολιτική', 'URL': 'https://www.documentonews.gr/article/kolonos-paremvasi-areioy-pagoy-gia-ayximeni-epitirisi-tis-12xronis/'}\n"
          ]
        }
      ]
    },
    {
      "cell_type": "code",
      "source": [
        "data_dict2={\"Τίτλος\":\"Κατώτατος μισθός: Σε ισχύ από σήμερα η αύξηση στα 780 ευρώ μεικτά – Ποια επιδόματα αυξάνονται\", \n",
        "            \"Ημερομηνία\":\"01.04.2023\", \n",
        "            \"Κατηγορία\":\"οικονομία\",\n",
        "            \"URL\":\"https://www.documentonews.gr/article/katotatos-misthos-se-isxy-apo-simera-ta-780-eyro-meikta-poia-epidomata-ayxanontai/\"}"
      ],
      "metadata": {
        "id": "dE9PMMIccQHo"
      },
      "execution_count": 148,
      "outputs": []
    },
    {
      "cell_type": "code",
      "source": [
        "articleData.append(data_dict1)\n",
        "articleData.append(data_dict2)\n",
        "print(articleData)"
      ],
      "metadata": {
        "colab": {
          "base_uri": "https://localhost:8080/"
        },
        "id": "j6hBhfxgdYnS",
        "outputId": "ca39ba93-91f3-4ed2-d99a-802524146b1f"
      },
      "execution_count": 149,
      "outputs": [
        {
          "output_type": "stream",
          "name": "stdout",
          "text": [
            "[{'Τίτλος': 'Κολωνός: Παρέμβαση Αρείου Πάγου για αυξημένη επιτήρηση της 12χρονης', 'Ημερομηνία': '04.04.2023', 'Κατηγορία': 'Πολιτική', 'URL': 'https://www.documentonews.gr/article/kolonos-paremvasi-areioy-pagoy-gia-ayximeni-epitirisi-tis-12xronis/'}, {'Τίτλος': 'Κατώτατος μισθός: Σε ισχύ από σήμερα η αύξηση στα 780 ευρώ μεικτά – Ποια επιδόματα αυξάνονται', 'Ημερομηνία': '01.04.2023', 'Κατηγορία': 'οικονομία', 'URL': 'https://www.documentonews.gr/article/katotatos-misthos-se-isxy-apo-simera-ta-780-eyro-meikta-poia-epidomata-ayxanontai/'}]\n"
          ]
        }
      ]
    },
    {
      "cell_type": "code",
      "source": [
        "data_dict1[\"site\"]=\"Documento\"\n",
        "data_dict2[\"site\"]=\"Documento\"\n",
        "print(data_dict1)\n",
        "print(data_dict2)"
      ],
      "metadata": {
        "colab": {
          "base_uri": "https://localhost:8080/"
        },
        "id": "uPqlsawQd4xJ",
        "outputId": "7a06d43c-3140-4da1-96c1-f5f718dc51d6"
      },
      "execution_count": 150,
      "outputs": [
        {
          "output_type": "stream",
          "name": "stdout",
          "text": [
            "{'Τίτλος': 'Κολωνός: Παρέμβαση Αρείου Πάγου για αυξημένη επιτήρηση της 12χρονης', 'Ημερομηνία': '04.04.2023', 'Κατηγορία': 'Πολιτική', 'URL': 'https://www.documentonews.gr/article/kolonos-paremvasi-areioy-pagoy-gia-ayximeni-epitirisi-tis-12xronis/', 'site': 'Documento'}\n",
            "{'Τίτλος': 'Κατώτατος μισθός: Σε ισχύ από σήμερα η αύξηση στα 780 ευρώ μεικτά – Ποια επιδόματα αυξάνονται', 'Ημερομηνία': '01.04.2023', 'Κατηγορία': 'οικονομία', 'URL': 'https://www.documentonews.gr/article/katotatos-misthos-se-isxy-apo-simera-ta-780-eyro-meikta-poia-epidomata-ayxanontai/', 'site': 'Documento'}\n"
          ]
        }
      ]
    },
    {
      "cell_type": "code",
      "source": [
        "len(articleData)"
      ],
      "metadata": {
        "colab": {
          "base_uri": "https://localhost:8080/"
        },
        "id": "-7CzmGYEgFHI",
        "outputId": "ef4f5f6a-3759-4491-bafa-36a4eef5e224"
      },
      "execution_count": 152,
      "outputs": [
        {
          "output_type": "execute_result",
          "data": {
            "text/plain": [
              "2"
            ]
          },
          "metadata": {},
          "execution_count": 152
        }
      ]
    }
  ]
}