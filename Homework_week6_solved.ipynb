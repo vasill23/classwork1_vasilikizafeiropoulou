{
  "nbformat": 4,
  "nbformat_minor": 0,
  "metadata": {
    "colab": {
      "provenance": [],
      "include_colab_link": true
    },
    "kernelspec": {
      "name": "python3",
      "display_name": "Python 3"
    },
    "language_info": {
      "name": "python"
    }
  },
  "cells": [
    {
      "cell_type": "markdown",
      "metadata": {
        "id": "view-in-github",
        "colab_type": "text"
      },
      "source": [
        "<a href=\"https://colab.research.google.com/github/vasill23/classwork1_vasilikizafeiropoulou/blob/main/Homework_week6_solved.ipynb\" target=\"_parent\"><img src=\"https://colab.research.google.com/assets/colab-badge.svg\" alt=\"Open In Colab\"/></a>"
      ]
    },
    {
      "cell_type": "markdown",
      "source": [
        "### **ΑΣΚΗΣΗ 1**"
      ],
      "metadata": {
        "id": "jEj3sBix0ek8"
      }
    },
    {
      "cell_type": "code",
      "execution_count": 2,
      "metadata": {
        "colab": {
          "base_uri": "https://localhost:8080/"
        },
        "id": "_-r7xOeSwbp-",
        "outputId": "0529e94e-9e0c-41cf-aa02-90664e70d878"
      },
      "outputs": [
        {
          "output_type": "stream",
          "name": "stdout",
          "text": [
            "το a είναι 5\n",
            "το b είναι 4\n"
          ]
        }
      ],
      "source": [
        "a = 5\n",
        "b = 4\n",
        "print(\"το a είναι\", a)\n",
        "print(\"το b είναι\", b)"
      ]
    },
    {
      "cell_type": "code",
      "source": [
        "b = b+3\n",
        "print(\"τώρα το b είναι\", b)"
      ],
      "metadata": {
        "colab": {
          "base_uri": "https://localhost:8080/"
        },
        "id": "goC-RPzAse1v",
        "outputId": "9b293a98-e8d2-4ac6-b8ec-d703100d3745"
      },
      "execution_count": 3,
      "outputs": [
        {
          "output_type": "stream",
          "name": "stdout",
          "text": [
            "τώρα το b είναι 7\n"
          ]
        }
      ]
    },
    {
      "cell_type": "code",
      "source": [
        "b += 2            # μπορώ να αυξήσω την τιμή μιας μεταβλητής και με αυτό τη σύνταξη\n",
        "print(\"τώρα το b είναι\", b)"
      ],
      "metadata": {
        "colab": {
          "base_uri": "https://localhost:8080/"
        },
        "id": "NHVykmq2zuue",
        "outputId": "82de3c8d-547b-4dec-e855-5ad2e4d2a377"
      },
      "execution_count": 4,
      "outputs": [
        {
          "output_type": "stream",
          "name": "stdout",
          "text": [
            "τώρα το b είναι 9\n"
          ]
        }
      ]
    },
    {
      "cell_type": "markdown",
      "source": [
        "- **Φτιάξτε μια αριθμητική μεταβλητή (integer) με όνομα c και τιμή έναν αριθμό από το 6 έως το 9**\n",
        "- **Τυπώστε (print) την τιμή της μεταβλητής c που ορίσατε, με σχετικό κείμενο, όπως παραπάνω**"
      ],
      "metadata": {
        "id": "vrysOR_tEN44"
      }
    },
    {
      "cell_type": "code",
      "source": [
        "c=8\n",
        "print(\"Το c είναι\", c)"
      ],
      "metadata": {
        "id": "k6eEgWCzEwPs",
        "colab": {
          "base_uri": "https://localhost:8080/"
        },
        "outputId": "551b1e22-bc8a-4d4c-f5cf-ae806e5c7e6b"
      },
      "execution_count": 7,
      "outputs": [
        {
          "output_type": "stream",
          "name": "stdout",
          "text": [
            "Το c είναι 8\n"
          ]
        }
      ]
    },
    {
      "cell_type": "markdown",
      "source": [
        "- **Αλλάξτε την τιμή της μεταβλητής c στο διπλάσιο της τιμής που ορίσατε αρχικά**\n",
        "- **Τυπώστε τη νέα τιμή της μεταβλητής**"
      ],
      "metadata": {
        "id": "5xlBfOottBte"
      }
    },
    {
      "cell_type": "code",
      "source": [
        "c= c*2\n",
        "print(\"Το c είναι\", c)"
      ],
      "metadata": {
        "id": "I4vBZpxftK6m",
        "colab": {
          "base_uri": "https://localhost:8080/"
        },
        "outputId": "842182be-09ce-417d-8a3e-ccd236470e2f"
      },
      "execution_count": 8,
      "outputs": [
        {
          "output_type": "stream",
          "name": "stdout",
          "text": [
            "Το c είναι 16\n"
          ]
        }
      ]
    },
    {
      "cell_type": "markdown",
      "source": [
        "\n",
        "\n",
        "---\n",
        "\n"
      ],
      "metadata": {
        "id": "ASR9DZaEsBiL"
      }
    },
    {
      "cell_type": "markdown",
      "source": [
        "### **ΑΣΚΗΣΗ 2**"
      ],
      "metadata": {
        "id": "uGUtlPiJ1nSi"
      }
    },
    {
      "cell_type": "code",
      "source": [
        "suma = a+b\n",
        "print(\"το άθροισμα των a και b είναι\", suma)\n",
        "product = a*b\n",
        "print(\"το γινόμενο a επί b είναι\", product)\n",
        "quotient = a/b\n",
        "print(f\"το πηλίκο της διαίρεσης του {a} με το {b} είναι {quotient}\")"
      ],
      "metadata": {
        "colab": {
          "base_uri": "https://localhost:8080/"
        },
        "id": "926DS0vdwqwV",
        "outputId": "6e62c38d-69d6-4dc1-d673-882cb73e9064"
      },
      "execution_count": null,
      "outputs": [
        {
          "output_type": "stream",
          "name": "stdout",
          "text": [
            "το άθροισμα των a και b είναι 14\n",
            "το γινόμενο a επί b είναι 45\n",
            "το πηλίκο της διαίρεσης του 5 με το 9 είναι 0.5555555555555556\n"
          ]
        }
      ]
    },
    {
      "cell_type": "markdown",
      "source": [
        "- **Αποθηκεύστε σε μια μεταβλητή τη διαφορά των αριθμών a και c**\n",
        "- **Αποθηκεύστε σε μια μεταβλητή το υπόλοιπο της διαίρεσης του c με το b**\n",
        "- **Τυπώστε τις τιμές των μεταβλητών που δημιουργήσατε, με σχετικό κείμενο, όπως παραπάνω**"
      ],
      "metadata": {
        "id": "mzlXeQyFFfxH"
      }
    },
    {
      "cell_type": "code",
      "source": [
        "difference= a-c\n",
        "remainder= c%b\n",
        "print(\"Η διαφορά είναι\", difference)\n",
        "print(\"Το υπόλοιπο είναι\", remainder)"
      ],
      "metadata": {
        "id": "evBe8lcmVA_8",
        "colab": {
          "base_uri": "https://localhost:8080/"
        },
        "outputId": "12368d04-d287-48de-b58a-1ed896c88cbc"
      },
      "execution_count": 9,
      "outputs": [
        {
          "output_type": "stream",
          "name": "stdout",
          "text": [
            "Η διαφορά είναι -11\n",
            "Το υπόλοιπο είναι 7\n"
          ]
        }
      ]
    },
    {
      "cell_type": "markdown",
      "source": [
        "\n",
        "\n",
        "---\n",
        "\n"
      ],
      "metadata": {
        "id": "s6LWZFYhsHA7"
      }
    },
    {
      "cell_type": "markdown",
      "source": [
        "### **ΑΣΚΗΣΗ 3**"
      ],
      "metadata": {
        "id": "GOumWdJj11nY"
      }
    },
    {
      "cell_type": "code",
      "source": [
        "numbers_list = [1, 2, 3, 4, 6, 7, 8]\n",
        "print(numbers_list)\n",
        "numbers_list_length = len(numbers_list)\n",
        "print(f'το πλήθος των αντικειμένων της λίστας \"numbers_list\" είναι {numbers_list_length}')"
      ],
      "metadata": {
        "colab": {
          "base_uri": "https://localhost:8080/"
        },
        "id": "oQgBTQzqzInd",
        "outputId": "b8c992d6-cd89-41fa-e76c-10aab4297887"
      },
      "execution_count": 15,
      "outputs": [
        {
          "output_type": "stream",
          "name": "stdout",
          "text": [
            "[1, 2, 3, 4, 6, 7, 8]\n",
            "το πλήθος των αντικειμένων της λίστας \"numbers_list\" είναι 7\n"
          ]
        }
      ]
    },
    {
      "cell_type": "code",
      "source": [
        "numbers_list.append(10)\n",
        "print(numbers_list)"
      ],
      "metadata": {
        "colab": {
          "base_uri": "https://localhost:8080/"
        },
        "id": "cl_73BGIzOii",
        "outputId": "d0856f4b-32d7-443e-ac58-7ebf351b8c0b"
      },
      "execution_count": 16,
      "outputs": [
        {
          "output_type": "stream",
          "name": "stdout",
          "text": [
            "[1, 2, 3, 4, 6, 7, 8, 10]\n"
          ]
        }
      ]
    },
    {
      "cell_type": "code",
      "source": [
        "list1 = [1, 2]\n",
        "list2 = [99, 100]\n",
        "list1 = list1 + list2\n",
        "print(list1)"
      ],
      "metadata": {
        "colab": {
          "base_uri": "https://localhost:8080/"
        },
        "id": "42T49mK8Avqr",
        "outputId": "f004f4b2-acd1-4bb6-bad0-1cf9a9f22d2b"
      },
      "execution_count": 17,
      "outputs": [
        {
          "output_type": "stream",
          "name": "stdout",
          "text": [
            "[1, 2, 99, 100]\n"
          ]
        }
      ]
    },
    {
      "cell_type": "markdown",
      "source": [
        "- **Δημιουργήστε μια κενή λίστα και προσθέστε σε αυτή (με append) τις μεταβλητές a, b και c**\n",
        "- **Τυπώστε τα περιεχόμενα της λίστας και το πλήθος τους**\n",
        "- **Αλλάξτε τη μεταβλητή numbers_list, έτσι ώστε τώρα να περιλαμβάνει και τα αντικείμενα της νέας λίστας που μόλις δημιουργήσατε** (Tip: ο ευκολότερος τρόπος είναι να προσθέσετε τις 2 λίστες και να αποθηκεύσετε το αποτέλεσμα στη μεταβλητή numbers_list)\n",
        "- **Τυπώστε τα περιεχόμενα και το πλήθος των περιεχομένων της λίστας numbers_list**"
      ],
      "metadata": {
        "id": "7SjkzOBVY3sB"
      }
    },
    {
      "cell_type": "code",
      "source": [
        "no_list=[]\n",
        "no_list.append(a)\n",
        "no_list.append(b)\n",
        "no_list.append(c)\n",
        "print(no_list, len(no_list))\n"
      ],
      "metadata": {
        "id": "LCcJNqSksPi9",
        "colab": {
          "base_uri": "https://localhost:8080/"
        },
        "outputId": "b8472c55-870c-49f9-af76-b148da7fd34c"
      },
      "execution_count": 18,
      "outputs": [
        {
          "output_type": "stream",
          "name": "stdout",
          "text": [
            "[5, 9, 16] 3\n"
          ]
        }
      ]
    },
    {
      "cell_type": "code",
      "source": [
        "numbers_list= numbers_list+ no_list\n",
        "print(numbers_list, len(numbers_list))"
      ],
      "metadata": {
        "id": "tiSTdMXAdhot",
        "outputId": "49d901d8-7c81-44f0-bf2d-c2fce8bd85b6",
        "colab": {
          "base_uri": "https://localhost:8080/"
        }
      },
      "execution_count": 19,
      "outputs": [
        {
          "output_type": "stream",
          "name": "stdout",
          "text": [
            "[1, 2, 3, 4, 6, 7, 8, 10, 5, 9, 16] 11\n"
          ]
        }
      ]
    },
    {
      "cell_type": "markdown",
      "source": [
        "\n",
        "\n",
        "---\n",
        "\n"
      ],
      "metadata": {
        "id": "E9-raYWVsOcB"
      }
    },
    {
      "cell_type": "markdown",
      "source": [
        "### **ΑΣΚΗΣΗ 4**"
      ],
      "metadata": {
        "id": "nl9pKBS43laa"
      }
    },
    {
      "cell_type": "code",
      "source": [
        "print(f'το πρώτο αντικείμενο της λίστας \"numbers_list\" είναι το {numbers_list[0]}')"
      ],
      "metadata": {
        "colab": {
          "base_uri": "https://localhost:8080/"
        },
        "id": "ZcWA_gmQ1AUy",
        "outputId": "0099396e-e240-4b2c-b17c-fa7f93af0369"
      },
      "execution_count": null,
      "outputs": [
        {
          "output_type": "stream",
          "name": "stdout",
          "text": [
            "το πρώτο αντικείμενο της λίστας \"numbers_list\" είναι το 1\n"
          ]
        }
      ]
    },
    {
      "cell_type": "code",
      "source": [
        "print(f'το τρίτο αντικείμενο της λίστας \"numbers_list\" είναι το {numbers_list[2]}')"
      ],
      "metadata": {
        "colab": {
          "base_uri": "https://localhost:8080/"
        },
        "id": "ZjqpobJ43QUo",
        "outputId": "85995bf9-22b2-4802-b22e-e3695ce55813"
      },
      "execution_count": null,
      "outputs": [
        {
          "output_type": "stream",
          "name": "stdout",
          "text": [
            "το τρίτο αντικείμενο της λίστας \"numbers_list\" είναι το 3\n"
          ]
        }
      ]
    },
    {
      "cell_type": "markdown",
      "source": [
        "- **Τυπώστε το προτελευταίο αντικείμενο της νέας λίστας numbers_list**\n",
        "\n"
      ],
      "metadata": {
        "id": "7ytguAXCVp5g"
      }
    },
    {
      "cell_type": "code",
      "source": [
        "print(numbers_list[9])"
      ],
      "metadata": {
        "id": "-WjmqPzI3Ycd",
        "colab": {
          "base_uri": "https://localhost:8080/"
        },
        "outputId": "61577b1d-7d66-4aee-e748-77f60bdb8937"
      },
      "execution_count": 20,
      "outputs": [
        {
          "output_type": "stream",
          "name": "stdout",
          "text": [
            "9\n"
          ]
        }
      ]
    },
    {
      "cell_type": "markdown",
      "source": [
        "- **Τυπώστε τη λίστα numbers_list**"
      ],
      "metadata": {
        "id": "4KA08ACewHoo"
      }
    },
    {
      "cell_type": "code",
      "source": [
        "print(numbers_list)"
      ],
      "metadata": {
        "id": "eJ5yO8Ev6dIP",
        "colab": {
          "base_uri": "https://localhost:8080/"
        },
        "outputId": "37a09e6d-69e1-4f49-fc18-1004cf853fa9"
      },
      "execution_count": 21,
      "outputs": [
        {
          "output_type": "stream",
          "name": "stdout",
          "text": [
            "[1, 2, 3, 4, 6, 7, 8, 10, 5, 9, 16]\n"
          ]
        }
      ]
    },
    {
      "cell_type": "markdown",
      "source": [
        "Μπορώ να ταξινομήσω τα περιεχόμενα μιας λίστας σε αύξουσα σειρά με το sort()"
      ],
      "metadata": {
        "id": "I28tplG46pdw"
      }
    },
    {
      "cell_type": "code",
      "source": [
        "sample_list = [33, 14, 82, 25, 67]\n",
        "sample_list.sort()\n",
        "print(sample_list)"
      ],
      "metadata": {
        "colab": {
          "base_uri": "https://localhost:8080/"
        },
        "id": "2-mlLUdY4jkl",
        "outputId": "2d581a1d-5577-4f91-a5cd-9e4272ff2977"
      },
      "execution_count": null,
      "outputs": [
        {
          "output_type": "stream",
          "name": "stdout",
          "text": [
            "[14, 25, 33, 67, 82]\n"
          ]
        }
      ]
    },
    {
      "cell_type": "markdown",
      "source": [
        "**Note**: το sort() αποθηκεύει αυτόματα την αλλαγή. Δηλαδή **δεν** χρειάζεται να γράψουμε:\n",
        "\n",
        "\n",
        "```\n",
        "sample_list = sample_list.sort()\n",
        "```\n",
        "\n",
        "Δουλεύει ακριβώς όπως και το append(). Γράφουμε:\n",
        "\n",
        "\n",
        "```\n",
        "numbers_list.append(10)\n",
        "```\n",
        "και όχι:\n",
        "\n",
        "\n",
        "```\n",
        "numbers_list = numbers_list.append(10)\n",
        "```\n",
        "\n",
        "\n",
        "\n",
        "\n",
        "\n",
        "\n"
      ],
      "metadata": {
        "id": "33hPoqT37xZB"
      }
    },
    {
      "cell_type": "markdown",
      "source": [
        "- **Ταξινομήστε σε αύξουσα σειρά τα περιεχόμενα της λίστας numbers_list**\n",
        "- **Τυπώστε τα περιεχόμενα της number_list**"
      ],
      "metadata": {
        "id": "7MRCOD5XB4e7"
      }
    },
    {
      "cell_type": "code",
      "source": [
        "numbers_list.sort()\n",
        "print(numbers_list)"
      ],
      "metadata": {
        "id": "wuEuQWvtCEXi",
        "colab": {
          "base_uri": "https://localhost:8080/"
        },
        "outputId": "042ec2ab-6d94-44d4-87bb-caefd258dde8"
      },
      "execution_count": 22,
      "outputs": [
        {
          "output_type": "stream",
          "name": "stdout",
          "text": [
            "[1, 2, 3, 4, 5, 6, 7, 8, 9, 10, 16]\n"
          ]
        }
      ]
    },
    {
      "cell_type": "markdown",
      "source": [
        "Μπορώ να πάρω ένα κομμάτι μιας λίστας, ορίζοντας το index του πρώτου αντικειμένου και το index του επόμενου από το τελευταίο που θέλουμε:"
      ],
      "metadata": {
        "id": "DayGoEEgQ66A"
      }
    },
    {
      "cell_type": "code",
      "source": [
        "print(f'ολόκληρη η λίστα \"sample_list: {sample_list}')\n",
        "print(f'τα 2 πρώτα αντικείμενα της λίστας \"sample_list\": {sample_list[:2]}')"
      ],
      "metadata": {
        "colab": {
          "base_uri": "https://localhost:8080/"
        },
        "id": "KYNe8EpUSNZZ",
        "outputId": "5f09e7b1-a80b-445b-d606-7e65b2099eee"
      },
      "execution_count": null,
      "outputs": [
        {
          "output_type": "stream",
          "name": "stdout",
          "text": [
            "ολόκληρη η λίστα \"sample_list: [14, 25, 33, 67, 82]\n",
            "τα 2 πρώτα αντικείμενα της λίστας \"sample_list\": [14, 25]\n"
          ]
        }
      ]
    },
    {
      "cell_type": "markdown",
      "source": [
        "- **Τυπώστε τα 2 τελευταία αντικείμενα της λίστας sample_list**"
      ],
      "metadata": {
        "id": "5eo2BkuOTg0F"
      }
    },
    {
      "cell_type": "code",
      "source": [
        "print(numbers_list[9:])"
      ],
      "metadata": {
        "id": "cOwxCp_USoz-",
        "colab": {
          "base_uri": "https://localhost:8080/"
        },
        "outputId": "e921109f-91b3-42bd-8fe7-d6aaeb1ea3be"
      },
      "execution_count": 25,
      "outputs": [
        {
          "output_type": "stream",
          "name": "stdout",
          "text": [
            "[10, 16]\n"
          ]
        }
      ]
    },
    {
      "cell_type": "markdown",
      "source": [
        "\n",
        "\n",
        "---\n",
        "\n"
      ],
      "metadata": {
        "id": "1VVxO_EFsUPD"
      }
    },
    {
      "cell_type": "markdown",
      "source": [
        "### **ΑΣΚΗΣΗ 5**"
      ],
      "metadata": {
        "id": "De9G6JSkLidH"
      }
    },
    {
      "cell_type": "markdown",
      "source": [
        "- **Τρέξτε το παρακάτω κελί**"
      ],
      "metadata": {
        "id": "jZ5S2Zbeqgsi"
      }
    },
    {
      "cell_type": "code",
      "source": [
        "doubles_list = []\n",
        "for i in numbers_list:\n",
        "  double = i*2\n",
        "  doubles_list.append(double)\n",
        "print(doubles_list)"
      ],
      "metadata": {
        "colab": {
          "base_uri": "https://localhost:8080/"
        },
        "id": "VZHei7Gco3Oq",
        "outputId": "f0fcfe6a-9dad-486a-e08f-6fa9fb37652c"
      },
      "execution_count": 26,
      "outputs": [
        {
          "output_type": "stream",
          "name": "stdout",
          "text": [
            "[2, 4, 6, 8, 10, 12, 14, 16, 18, 20, 32]\n"
          ]
        }
      ]
    },
    {
      "cell_type": "markdown",
      "source": [
        "- **Γράψτε σε ένα κελί κειμένου, τι κάνει ο παραπάνω κώδικας**"
      ],
      "metadata": {
        "id": "_r88DWBBrpeg"
      }
    },
    {
      "cell_type": "markdown",
      "source": [
        "Ο παραπάνω κώδικας παίρνει κάθε στοιχείο της λίστας numbers_list και το πολλαπλασιάζει επί 2, στη συνέχεια το προσθέτει στη κενή λίστα (doubles_list)  που δημιουργήσαμε στην αρχή με την εντολή append() και στο τέλος κάνει print τη λίστα. Αυτές οι εντολές είναι σε loop, που σημαίνει ότι κάθε φορά που προσθέτουμε ένα στοιχείο στην numbers_list και ξανατρέχουμε τον κώδικά, θα κάνει το ίδιο για κάθε νέο στοιχείο.\n"
      ],
      "metadata": {
        "id": "EbHLa_-Pg8Cv"
      }
    },
    {
      "cell_type": "markdown",
      "source": [],
      "metadata": {
        "id": "tnqyAK362gcB"
      }
    },
    {
      "cell_type": "markdown",
      "source": [
        "- **Φτιάξτε μια λούπα που θα υπολογίζει το τριπλάσιο κάθε αριθμού της λίστας numbers_list και θα το αποθηκεύει σε μια νέα λίστα triples_list**"
      ],
      "metadata": {
        "id": "cZbM_IbNoxbO"
      }
    },
    {
      "cell_type": "code",
      "source": [
        "triples_list=[]\n",
        "for x in numbers_list:\n",
        "  triple= x*3\n",
        "  triples_list.append(triple)\n",
        "print(triples_list)"
      ],
      "metadata": {
        "id": "lNsgkFjJ2oeC",
        "colab": {
          "base_uri": "https://localhost:8080/"
        },
        "outputId": "43502c1a-88d4-4c4c-c39f-254292f61c7e"
      },
      "execution_count": 27,
      "outputs": [
        {
          "output_type": "stream",
          "name": "stdout",
          "text": [
            "[3, 6, 9, 12, 15, 18, 21, 24, 27, 30, 48]\n"
          ]
        }
      ]
    },
    {
      "cell_type": "markdown",
      "source": [
        "\n",
        "\n",
        "---\n",
        "\n"
      ],
      "metadata": {
        "id": "62JQILqI2pfz"
      }
    },
    {
      "cell_type": "markdown",
      "source": [
        "### **ΑΣΚΗΣΗ 6**"
      ],
      "metadata": {
        "id": "yBY0ITh5MXD9"
      }
    },
    {
      "cell_type": "code",
      "source": [
        "for num in numbers_list:   # για κάθε αριθμό στη numbers_list\n",
        "  if num % 2 == 0:         # αν το υπόλοιπο της διαίρεσης του εκάστοτε αριθμού με το 2 ισούται με 0\n",
        "    print(f\"το {num} είναι ζυγός αριθμός\")    # τύπωσε ο αριθμός αυτός είναι ζυγός\n",
        "  else:                                       # αλλιώς\n",
        "    print(f\"το {num} είναι μονός αριθμός\")    # τύπωσε ο αριθμός αυτός είναι μονός"
      ],
      "metadata": {
        "colab": {
          "base_uri": "https://localhost:8080/"
        },
        "id": "8v539cby2qyq",
        "outputId": "f477a4a9-4974-4660-9daf-79f41589e8ce"
      },
      "execution_count": null,
      "outputs": [
        {
          "output_type": "stream",
          "name": "stdout",
          "text": [
            "το 1 είναι μονός αριθμός\n",
            "το 2 είναι ζυγός αριθμός\n",
            "το 3 είναι μονός αριθμός\n",
            "το 4 είναι ζυγός αριθμός\n",
            "το 6 είναι ζυγός αριθμός\n",
            "το 7 είναι μονός αριθμός\n",
            "το 8 είναι ζυγός αριθμός\n",
            "το 10 είναι ζυγός αριθμός\n"
          ]
        }
      ]
    },
    {
      "cell_type": "markdown",
      "source": [
        "- **Φτιάξτε ένα προγραμματάκι που θα κάνει τα εξής:**\n",
        "  - **θα τρέχει για όλους τους αριθμούς που βρίσκονται στις λίστες με τα διπλάσια και τα τριπλάσια**\n",
        "  - **θα βάζει τους ζυγούς αριθμούς σε μια λίστα even_numbers_list**\n",
        "  - **θα βάζει τους μονούς αριθμούς σε μια λίστα odd_numbers_list**\n",
        "  - **Τέλος (εκτός λούπας), θα σορτάρει τις λίστες με τους μονούς και τους ζυγούς αριθμούς και θα τις τυπώνει**\n",
        "\n",
        "(Tip: ενώστε τις λίστες με τα διπλάσια και τα τριπλάσια, ώστε μία μόνο λούπα να είναι αρκετή)"
      ],
      "metadata": {
        "id": "MA0h5w3mMoG1"
      }
    },
    {
      "cell_type": "code",
      "source": [
        "d_t_list= doubles_list + triples_list\n",
        "even_numbers_list=[]\n",
        "odd_numbers_list=[]\n",
        "for num in d_t_list:\n",
        "  if num%2 == 0:\n",
        "    even_numbers_list.append(num)\n",
        "  else:\n",
        "    odd_numbers_list.append(num)"
      ],
      "metadata": {
        "id": "r9hgIPBMC9p-"
      },
      "execution_count": 30,
      "outputs": []
    },
    {
      "cell_type": "code",
      "source": [
        "even_numbers_list.sort()\n",
        "print(even_numbers_list)\n",
        "odd_numbers_list.sort()\n",
        "print(odd_numbers_list)"
      ],
      "metadata": {
        "id": "OvPIPYpNyCie",
        "outputId": "e0c54b27-2b87-4df2-d016-1ffd8b7f0b28",
        "colab": {
          "base_uri": "https://localhost:8080/"
        }
      },
      "execution_count": 31,
      "outputs": [
        {
          "output_type": "stream",
          "name": "stdout",
          "text": [
            "[2, 4, 6, 6, 8, 10, 12, 12, 14, 16, 18, 18, 20, 24, 30, 32, 48]\n",
            "[3, 9, 15, 21, 27]\n"
          ]
        }
      ]
    },
    {
      "cell_type": "markdown",
      "source": [
        "\n",
        "\n",
        "---\n",
        "\n"
      ],
      "metadata": {
        "id": "1VtFSHYlXSGq"
      }
    },
    {
      "cell_type": "markdown",
      "source": [
        "### **ΑΣΚΗΣΗ 7**"
      ],
      "metadata": {
        "id": "8s3IXFTyX7kj"
      }
    },
    {
      "cell_type": "markdown",
      "source": [
        "Μπορώ να ελέγχω αν ένα αντικείμενο είναι μέσα σε μια λίστα:"
      ],
      "metadata": {
        "id": "KqzOM7C3XYYu"
      }
    },
    {
      "cell_type": "code",
      "source": [
        "sample_list"
      ],
      "metadata": {
        "colab": {
          "base_uri": "https://localhost:8080/"
        },
        "id": "UBxjytpdza33",
        "outputId": "6af37583-9e47-4117-b4f3-f0b5df9e4d48"
      },
      "execution_count": null,
      "outputs": [
        {
          "output_type": "execute_result",
          "data": {
            "text/plain": [
              "[14, 25, 33, 67, 82]"
            ]
          },
          "metadata": {},
          "execution_count": 13
        }
      ]
    },
    {
      "cell_type": "code",
      "source": [
        "14 in sample_list"
      ],
      "metadata": {
        "colab": {
          "base_uri": "https://localhost:8080/"
        },
        "id": "GeRgnegPXWBb",
        "outputId": "b937cb42-444e-4b03-deb3-01e6925b28d2"
      },
      "execution_count": null,
      "outputs": [
        {
          "output_type": "execute_result",
          "data": {
            "text/plain": [
              "True"
            ]
          },
          "metadata": {},
          "execution_count": 14
        }
      ]
    },
    {
      "cell_type": "code",
      "source": [
        "15 in sample_list"
      ],
      "metadata": {
        "colab": {
          "base_uri": "https://localhost:8080/"
        },
        "id": "tnn8ngm5YA0F",
        "outputId": "cba2e0e5-8f7a-4000-fc79-1a1b21f603b1"
      },
      "execution_count": null,
      "outputs": [
        {
          "output_type": "execute_result",
          "data": {
            "text/plain": [
              "False"
            ]
          },
          "metadata": {},
          "execution_count": 15
        }
      ]
    },
    {
      "cell_type": "markdown",
      "source": [
        "Ομοίως, μπορώ να ελέγχω αν ένας χαρακτήρας είναι μέσα σε ένα string:"
      ],
      "metadata": {
        "id": "76MRnFVaYHxa"
      }
    },
    {
      "cell_type": "code",
      "source": [
        "\"ε\" in \"Θοδωρής\""
      ],
      "metadata": {
        "colab": {
          "base_uri": "https://localhost:8080/"
        },
        "id": "8K7NPbsJYQ61",
        "outputId": "f467534d-773f-4dd5-c180-b600c82aacd2"
      },
      "execution_count": null,
      "outputs": [
        {
          "output_type": "execute_result",
          "data": {
            "text/plain": [
              "False"
            ]
          },
          "metadata": {},
          "execution_count": 16
        }
      ]
    },
    {
      "cell_type": "code",
      "source": [
        "name = \"Θοδωρής Παρασκευάς\"\n",
        "\" \" in name"
      ],
      "metadata": {
        "colab": {
          "base_uri": "https://localhost:8080/"
        },
        "id": "mzzDQfLbYXqY",
        "outputId": "3c610ee3-5b44-40a4-9db1-b930e8a0a5c4"
      },
      "execution_count": null,
      "outputs": [
        {
          "output_type": "execute_result",
          "data": {
            "text/plain": [
              "True"
            ]
          },
          "metadata": {},
          "execution_count": 17
        }
      ]
    },
    {
      "cell_type": "markdown",
      "source": [
        "**Έχουμε μια λίστα με urls και emails**"
      ],
      "metadata": {
        "id": "X1YvpTHi6G3Y"
      }
    },
    {
      "cell_type": "code",
      "source": [
        "List = [\"https://reporter.gr\", \"mitsos@gmail.com\", \"https://cnn.gr\", \"annak@gmail.com\"]"
      ],
      "metadata": {
        "id": "nGo9YbS_6SWu"
      },
      "execution_count": null,
      "outputs": []
    },
    {
      "cell_type": "markdown",
      "source": [
        "- **Γράψτε έναν κώδικα που θα λουπάρει σε όλα τα αντικείμενα της λίστας List.**\n",
        "\n",
        "- **Αν το αντικείμενο είναι url, θα το βάζει σε μια λίστα για urls. Αν το αντικείμενο είναι email, θα το βάζει σε μια λίστα για emails.**\n",
        "- **Τυπώστε τα περιεχόμενα των λιστών με τα urls και τα emails**\n",
        "\n",
        "(**Tips**: χρειάζεται να φτιάξετε:\n",
        "- τις δύο λίστες στις οποίες θα μπαίνουν τα αντικείμενα, - μια for loop που θα λουπάρει σε όλα τα αντικείμενα της List\n",
        "- μια δομή if/else που θα τσεκάρει αν το εκάστοτε αντικείμενο είναι url ή email\n",
        "- πρέπει να βρείτε **πώς** θα αναγνωρίζετε αν το εκάστοτε αντικείμενο είναι url ή email)"
      ],
      "metadata": {
        "id": "5mKG_4Qf6kV2"
      }
    },
    {
      "cell_type": "code",
      "source": [
        "List = [\"https://reporter.gr\", \"mitsos@gmail.com\", \"https://cnn.gr\", \"annak@gmail.com\"]\n",
        "urls= []\n",
        "emails=[]\n",
        "for element in List:\n",
        "  if \"http\" in element:\n",
        "    urls.append(element)\n",
        "  else:\n",
        "    emails.append(element)\n",
        "print(urls, emails)"
      ],
      "metadata": {
        "id": "cWIwN7_RzmnT",
        "colab": {
          "base_uri": "https://localhost:8080/"
        },
        "outputId": "60213c3c-25cd-4585-b78c-210fde8b6d7e"
      },
      "execution_count": 33,
      "outputs": [
        {
          "output_type": "stream",
          "name": "stdout",
          "text": [
            "['https://reporter.gr', 'https://cnn.gr'] ['mitsos@gmail.com', 'annak@gmail.com']\n"
          ]
        }
      ]
    },
    {
      "cell_type": "markdown",
      "source": [
        "\n",
        "\n",
        "---\n",
        "\n"
      ],
      "metadata": {
        "id": "em5ttb1PZ26h"
      }
    },
    {
      "cell_type": "markdown",
      "source": [
        "### **ΑΣΚΗΣΗ 8**"
      ],
      "metadata": {
        "id": "G1Nargg-Z1dJ"
      }
    },
    {
      "cell_type": "markdown",
      "source": [
        "Μπορώ να χωρίσω τις λέξεις ενός string, βάσει του χαρακτήρα που τις χωρίζει, με το split(). Το αποτέλεσμα είναι μια λίστα με τις λέξεις."
      ],
      "metadata": {
        "id": "IPLiLqpya4nw"
      }
    },
    {
      "cell_type": "code",
      "source": [
        "title = \"Πανεπιστήμιο Αιγαίου\"\n",
        "title_words = title.split(\" \") # ο χαρακτήρας που χωρίζει τις λέξεις είναι το κενό\n",
        "for w in title_words:\n",
        "  print(w)"
      ],
      "metadata": {
        "colab": {
          "base_uri": "https://localhost:8080/"
        },
        "id": "8reKl30DbpL6",
        "outputId": "47e76189-f5de-488e-e693-03d389390061"
      },
      "execution_count": null,
      "outputs": [
        {
          "output_type": "stream",
          "name": "stdout",
          "text": [
            "Πανεπιστήμιο\n",
            "Αιγαίου\n"
          ]
        }
      ]
    },
    {
      "cell_type": "code",
      "source": [
        "title_words"
      ],
      "metadata": {
        "colab": {
          "base_uri": "https://localhost:8080/"
        },
        "id": "PJKlNAiTrj5Z",
        "outputId": "39889613-2578-499d-b6e5-de43ee32cd55"
      },
      "execution_count": null,
      "outputs": [
        {
          "output_type": "execute_result",
          "data": {
            "text/plain": [
              "['Πανεπιστήμιο', 'Αιγαίου']"
            ]
          },
          "metadata": {},
          "execution_count": 20
        }
      ]
    },
    {
      "cell_type": "markdown",
      "source": [
        "Αφού το title_words είναι λίστα, μπορώ να ζητήσω ένα αντικείμενό της με τον αριθμό του index αυτού του αντικειμένου και να το αποθηκεύσω σε μια μεταβλητή"
      ],
      "metadata": {
        "id": "tKr364-AdEC7"
      }
    },
    {
      "cell_type": "code",
      "source": [
        "last_word = title_words[1]\n",
        "last_word"
      ],
      "metadata": {
        "colab": {
          "base_uri": "https://localhost:8080/",
          "height": 35
        },
        "id": "iWF9B1DScKEN",
        "outputId": "16d2178c-b964-4054-a612-fb946fbffecf"
      },
      "execution_count": null,
      "outputs": [
        {
          "output_type": "execute_result",
          "data": {
            "text/plain": [
              "'Αιγαίου'"
            ],
            "application/vnd.google.colaboratory.intrinsic+json": {
              "type": "string"
            }
          },
          "metadata": {},
          "execution_count": 21
        }
      ]
    },
    {
      "cell_type": "markdown",
      "source": [
        "Ομοίως, μπορώ να ζητήσω έναν χαρακτήρα ενός string με τον αριθμό του index αυτού του χαρακτήρα"
      ],
      "metadata": {
        "id": "j4dz7ldcdqh7"
      }
    },
    {
      "cell_type": "code",
      "source": [
        "last_word[-1] # ζητάω τον τελευταίο χαρακτήρα"
      ],
      "metadata": {
        "colab": {
          "base_uri": "https://localhost:8080/",
          "height": 35
        },
        "id": "ahA9ChhyeC3J",
        "outputId": "c6ebe67c-b311-4b51-897f-9a1f4fb58331"
      },
      "execution_count": null,
      "outputs": [
        {
          "output_type": "execute_result",
          "data": {
            "text/plain": [
              "'υ'"
            ],
            "application/vnd.google.colaboratory.intrinsic+json": {
              "type": "string"
            }
          },
          "metadata": {},
          "execution_count": 22
        }
      ]
    },
    {
      "cell_type": "markdown",
      "source": [
        "Μπορώ να ελέγξω αν το τελευταίο γράμμα είναι ένα συγκεκριμένο γράμμα"
      ],
      "metadata": {
        "id": "KB6bTkebqQAp"
      }
    },
    {
      "cell_type": "code",
      "source": [
        "last_word[-1] == \"Υ\"\n",
        "# με μονό ίσον (=) ορίζω κάτι να είναι ίσον με κάτι (π.χ. a = 5)\n",
        "# με διπλό ίσον (==) ελέγχω αν κάτι είναι ίσον με κάτι άλλο"
      ],
      "metadata": {
        "colab": {
          "base_uri": "https://localhost:8080/"
        },
        "id": "DJLJxs8TqklU",
        "outputId": "8c4ebbb4-3ddb-47bf-95e8-76065ed70155"
      },
      "execution_count": null,
      "outputs": [
        {
          "output_type": "execute_result",
          "data": {
            "text/plain": [
              "False"
            ]
          },
          "metadata": {},
          "execution_count": 23
        }
      ]
    },
    {
      "cell_type": "markdown",
      "source": [
        "Μπορώ να ζητήσω ένα μέρος ενός string"
      ],
      "metadata": {
        "id": "xIJndb2Je41Z"
      }
    },
    {
      "cell_type": "code",
      "source": [
        "last_word[:-1] # από την αρχή έως και το προτελευταίο γράμμα"
      ],
      "metadata": {
        "colab": {
          "base_uri": "https://localhost:8080/",
          "height": 35
        },
        "id": "PS4jOpYxfA8q",
        "outputId": "0027ac32-c09a-4bca-d4a2-d5da050315a4"
      },
      "execution_count": null,
      "outputs": [
        {
          "output_type": "execute_result",
          "data": {
            "text/plain": [
              "'Αιγαίο'"
            ],
            "application/vnd.google.colaboratory.intrinsic+json": {
              "type": "string"
            }
          },
          "metadata": {},
          "execution_count": 24
        }
      ]
    },
    {
      "cell_type": "markdown",
      "source": [
        "**Θέλουμε να φτιάξουμε ένα αυτοματοποιημένο, αλλά προσωποποιημένο απαντητικό email, ανάλογα με το επίθετο του παραλήπτη.**"
      ],
      "metadata": {
        "id": "S79ap7gBlVZ2"
      }
    },
    {
      "cell_type": "markdown",
      "source": [
        "- **Δίνονται τα παρακάτω ονόματα:**"
      ],
      "metadata": {
        "id": "NL4n28HnabRp"
      }
    },
    {
      "cell_type": "code",
      "source": [
        "names = [\"Κώστας Μουρλάς\", \"Κατερίνα Σωτηράκου\", \"Θοδωρής Παρασκευάς\"]"
      ],
      "metadata": {
        "id": "lhRKi1dPCdSM"
      },
      "execution_count": null,
      "outputs": []
    },
    {
      "cell_type": "markdown",
      "source": [
        "- **Φτιάξτε ένα προγραμματάκι που θα κάνει τα εξής:**\n",
        "  - **θα τρέχει σε όλα τα ονόματα της λίστας**\n",
        "  - **θα χωρίζει το όνομα και θα αποθηκεύει το επίθετο σε μια μεταβλητή**\n",
        "  - **αν το επίθετο τελειώνει σε \"ς\" θα τυπώνει \"Αγαπητέ κύριε Μουρλά,\", ή \"Αγαπητέ κύριε Παρασκευά,\",**\n",
        "  - **αλλιώς θα τυπώνει \"Αγαπητή κυρία Σωτηράκου,\"**\n",
        "\n",
        "Tip: δηλαδή, αν το τελευταίο γράμμα του επιθέτου είναι \"ς\", θα τυπώνει το επίθετο από την αρχή έως και το προτελευταίο γράμμα, αλλιώς θα το τυπώνει ολόκληρο"
      ],
      "metadata": {
        "id": "g0VY3FBOiRhL"
      }
    },
    {
      "cell_type": "code",
      "source": [
        "names = [\"Κώστας Μουρλάς\", \"Κατερίνα Σωτηράκου\", \"Θοδωρής Παρασκευάς\"]\n",
        "for name in names:\n",
        "  name= name.split(\" \")\n",
        "  surname= name[1]\n",
        "  if surname[-1]== \"ς\":\n",
        "    print(\"Αγαπητέ κύριε\", surname[:-1])\n",
        "  else:\n",
        "    print(\"Αγαπητή κυρία\", surname)"
      ],
      "metadata": {
        "id": "_Ok9tpy3fr73",
        "colab": {
          "base_uri": "https://localhost:8080/"
        },
        "outputId": "9d52c76c-ecf0-409c-a3ad-22daa66f78e8"
      },
      "execution_count": 36,
      "outputs": [
        {
          "output_type": "stream",
          "name": "stdout",
          "text": [
            "Αγαπητέ κύριε Μουρλά\n",
            "Αγαπητή κυρία Σωτηράκου\n",
            "Αγαπητέ κύριε Παρασκευά\n"
          ]
        }
      ]
    },
    {
      "cell_type": "markdown",
      "source": [
        "\n",
        "\n",
        "---\n",
        "\n"
      ],
      "metadata": {
        "id": "aZlraIGimQX2"
      }
    },
    {
      "cell_type": "markdown",
      "source": [
        "### **ΑΣΚΗΣΗ 9**"
      ],
      "metadata": {
        "id": "xY0vu-Hjmwnt"
      }
    },
    {
      "cell_type": "markdown",
      "source": [
        "Η δομή if εκτός από το else, δέχεται και το elif (πριν το else)."
      ],
      "metadata": {
        "id": "o4yBD3_s3o90"
      }
    },
    {
      "cell_type": "code",
      "source": [
        "nums = [5, 0, -2]\n",
        "for num in nums:\n",
        "  if num == 0:   # αν ο αριθμός είναι 0\n",
        "    print(f\"ο αριθμός {num} δεν είναι ούτε θετικός ούτε αρνητικός\")\n",
        "  elif num > 0:  # αλλιώς αν ο αριθμός είναι μεγαλύτερος από το 0\n",
        "    print(f\"ο αριθμός {num} είναι θετικός\")\n",
        "  else:          # αλλιώς, (αν δεν ισχύει τίποτα από τα παραπάνω)\n",
        "    print(f\"ο αριθμός {num} είναι αρνητικός\")"
      ],
      "metadata": {
        "colab": {
          "base_uri": "https://localhost:8080/"
        },
        "id": "FZ5yBEMc36qy",
        "outputId": "f3d7f8f1-7222-4a44-e79a-35d0bc965eaa"
      },
      "execution_count": null,
      "outputs": [
        {
          "output_type": "stream",
          "name": "stdout",
          "text": [
            "ο αριθμός 5 είναι θετικός\n",
            "ο αριθμός 0 δεν είναι ούτε θετικός ούτε αρνητικός\n",
            "ο αριθμός -2 είναι αρνητικός\n"
          ]
        }
      ]
    },
    {
      "cell_type": "markdown",
      "source": [
        "Σημειώστε ότι το elif και το else είναι προαιρετικά στη δομή if."
      ],
      "metadata": {
        "id": "Ly_aNxVv5rZ2"
      }
    },
    {
      "cell_type": "markdown",
      "source": [
        "Επίσης, μπορούμε να έχουμε μια δομή if μέσα σε μια άλλη δομή if"
      ],
      "metadata": {
        "id": "e1yPO_MSTMqz"
      }
    },
    {
      "cell_type": "code",
      "source": [
        "nums = [5, 0, -2]\n",
        "for num in nums:\n",
        "  if num == 0:   # αν ο αριθμός είναι 0\n",
        "    print(f\"ο αριθμός {num} δεν είναι ούτε θετικός ούτε αρνητικός\")\n",
        "  else:          # αλλιώς, δηλαδή αν δεν είναι 0\n",
        "    if num > 0:  # αν ο αριθμός είναι μεγαλύτερος από το 0\n",
        "      print(f\"ο αριθμός {num} είναι θετικός\")\n",
        "    else:          # αλλιώς, (δηλαδή αν δεν είναι μεγαλύτερος από το 0)\n",
        "      print(f\"ο αριθμός {num} είναι αρνητικός\")"
      ],
      "metadata": {
        "id": "PXSpJir_TNRY"
      },
      "execution_count": null,
      "outputs": []
    },
    {
      "cell_type": "markdown",
      "source": [
        "- **Ο παραπάνω κώδικας που φτιάξατε (ο οποίος ελέγχει αν το τελευταίο γράμμα είναι \"ς\") δεν μπορεί να δουλέψει σωστά για κάθε πιθανό ελληνικό αντρικό επίθετο.**"
      ],
      "metadata": {
        "id": "6qPNkQgX3gih"
      }
    },
    {
      "cell_type": "markdown",
      "source": [
        "- **Προσθέστε στη λίστα των ονομάτων το \"Νίκος Παπαναστασίου\" και βρείτε έναν τρόπο ώστε ο κώδικας να δουλεύει σωστά και γι' αυτό το όνομα**\n",
        "\n",
        "Tip: τυπώστε τα περιεχόμενα της λίστας των ονομάτων μετά την προσθήκη του Παπαναστασίου παρατηρήστε καλά τα ονόματα και τα επίθετα. Χρησιμοποιήστε δύο δομές if (η μία θα εξετάζει τα μικρά ονόματα και η άλλη τα επίθετα), και βάλτε τη μία δομή μέσα στην άλλη."
      ],
      "metadata": {
        "id": "vPTvpLFG3lYw"
      }
    },
    {
      "cell_type": "code",
      "source": [
        "names = [\"Κώστας Μουρλάς\", \"Κατερίνα Σωτηράκου\", \"Θοδωρής Παρασκευάς\", \"Νίκος Παπαναστασίου\"]\n",
        "for name in names:\n",
        "  name= name.split(\" \")\n",
        "  name1=name[0]\n",
        "  surname= name[1]\n",
        "  if name1[-1]==\"ς\" and surname[-1]== \"ς\":\n",
        "    print(\"Αγαπητέ κύριε\", surname[:-1])\n",
        "  elif name1[-1]==\"ς\" and surname[-1]!= \"ς\":\n",
        "    print(\"Αγαπητέ κύριε\", surname)\n",
        "  else:\n",
        "    print(\"Αγαπητή κυρία\", surname)\n",
        ""
      ],
      "metadata": {
        "id": "h9geZur6183w",
        "colab": {
          "base_uri": "https://localhost:8080/"
        },
        "outputId": "d5a60b07-7bed-464a-a315-9ad7ad107a83"
      },
      "execution_count": 66,
      "outputs": [
        {
          "output_type": "stream",
          "name": "stdout",
          "text": [
            "Αγαπητέ κύριε Μουρλά\n",
            "Αγαπητή κυρία Σωτηράκου\n",
            "Αγαπητέ κύριε Παρασκευά\n",
            "Αγαπητέ κύριε Παπαναστασίου\n"
          ]
        }
      ]
    },
    {
      "cell_type": "code",
      "source": [],
      "metadata": {
        "id": "3wMmjA7apasV"
      },
      "execution_count": null,
      "outputs": []
    },
    {
      "cell_type": "code",
      "source": [],
      "metadata": {
        "id": "6Btuf9LM122O"
      },
      "execution_count": null,
      "outputs": []
    }
  ]
}