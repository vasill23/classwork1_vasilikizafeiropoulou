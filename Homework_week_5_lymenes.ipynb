{
  "nbformat": 4,
  "nbformat_minor": 0,
  "metadata": {
    "colab": {
      "provenance": [],
      "authorship_tag": "ABX9TyOolpS4z8izZJoEOzwp2WkQ",
      "include_colab_link": true
    },
    "kernelspec": {
      "name": "python3",
      "display_name": "Python 3"
    },
    "language_info": {
      "name": "python"
    }
  },
  "cells": [
    {
      "cell_type": "markdown",
      "metadata": {
        "id": "view-in-github",
        "colab_type": "text"
      },
      "source": [
        "<a href=\"https://colab.research.google.com/github/vasill23/classwork1_vasilikizafeiropoulou/blob/main/Homework_week_5_lymenes.ipynb\" target=\"_parent\"><img src=\"https://colab.research.google.com/assets/colab-badge.svg\" alt=\"Open In Colab\"/></a>"
      ]
    },
    {
      "cell_type": "markdown",
      "source": [
        "ΑΣΚΗΣΗ 1"
      ],
      "metadata": {
        "id": "OEFFd06GiM-G"
      }
    },
    {
      "cell_type": "code",
      "source": [
        "urlsL = [\n",
        "    \"https://www.reporter.gr/Oles-oi-eidhseis/600370-Ghpeda-Pws-na-apokthsete-hlektroniko-eisithrio-me-kinhto-Huawei-H-diadikasia\",\n",
        "    \"https://www.reporter.gr/Diethnh/Diethneis-Eidhseis/600372-Synodos-Koryfhs-Proshlwsh-sth-synolikh-dieythethsh-toy-Kypriakoy\",\n",
        "    \"https://www.reporter.gr/Analyseis/600531-AVE-Apo-12-4-se-diapragmateysh-oi-20,64-ekat-nees-metoches\",\n",
        "    \"https://www.reporter.gr/Diethnh/Chrhmatisthria/600539-Meikta-proshma-stis-eyrwagores-meta-to-alma-plhthwrismoy-stis-HPA\"\n",
        "]\n"
      ],
      "metadata": {
        "id": "68H4OYTDtm7i"
      },
      "execution_count": 10,
      "outputs": []
    },
    {
      "cell_type": "code",
      "source": [
        "titles_list=[]\n",
        "words_nbr_list=[]"
      ],
      "metadata": {
        "id": "_V4ecK-0Tpah"
      },
      "execution_count": 11,
      "outputs": []
    },
    {
      "cell_type": "code",
      "source": [
        "for url in urlsL:\n",
        "  url = url.split(\"/\")\n",
        "  title = url[-1]\n",
        "  index_start = title.index(\"-\")\n",
        "  title = title[index_start+1 : ]\n",
        "  title = title.replace(\"-\", \" \")\n",
        "  titles_list.append(title)\n",
        "  title_words = title.split(\" \")\n",
        "  words_nbr = len(title_words)\n",
        "  words_nbr_list.append(words_nbr)"
      ],
      "metadata": {
        "id": "8dATnl-0h8lB"
      },
      "execution_count": 12,
      "outputs": []
    },
    {
      "cell_type": "code",
      "source": [
        "print(titles_list)\n",
        "print(words_nbr_list)"
      ],
      "metadata": {
        "id": "zH8GX5MLg1XT",
        "outputId": "cf1b1e90-276c-46b6-d3c0-57501f3939ee",
        "colab": {
          "base_uri": "https://localhost:8080/"
        }
      },
      "execution_count": 13,
      "outputs": [
        {
          "output_type": "stream",
          "name": "stdout",
          "text": [
            "['Ghpeda Pws na apokthsete hlektroniko eisithrio me kinhto Huawei H diadikasia', 'Synodos Koryfhs Proshlwsh sth synolikh dieythethsh toy Kypriakoy', 'AVE Apo 12 4 se diapragmateysh oi 20,64 ekat nees metoches', 'Meikta proshma stis eyrwagores meta to alma plhthwrismoy stis HPA']\n",
            "[11, 8, 11, 10]\n"
          ]
        }
      ]
    },
    {
      "cell_type": "markdown",
      "source": [
        "ΑΣΚΗΣΗ 2\n"
      ],
      "metadata": {
        "id": "M8gC1qToiIH-"
      }
    },
    {
      "cell_type": "code",
      "source": [
        "urls_list=[\"https://www.efsyn.gr/ellada/koinonia/429449_den-se-skotosei-i-patriarhia-tha-se-xylofortosei-i-astynomia\",\n",
        "           \"https://www.efsyn.gr/ellada/koinonia/429397_safe-houses-stin-perifereia-kathe-astynomikis-dieythynsis-katopin-eortis\",\n",
        "           \"https://www.efsyn.gr/stiles/hronografima/429306_gynaikoktonia-lexi-poy-kaiei\",\n",
        "           \"https://www.efsyn.gr/ellada/koinonia/429267_endooikogeneiaki-bia-odigies-tis-astynomias-gia-tin-kataggelia-ton\"]"
      ],
      "metadata": {
        "id": "bHeJONpHiLpO"
      },
      "execution_count": 5,
      "outputs": []
    },
    {
      "cell_type": "code",
      "source": [
        "titlesL=[]\n",
        "words_nbrL=[]\n"
      ],
      "metadata": {
        "id": "8nGq0NccjmqB"
      },
      "execution_count": 15,
      "outputs": []
    },
    {
      "cell_type": "code",
      "source": [
        "for url in urls_list:\n",
        "  url = url.split(\"/\")\n",
        "  title = url[-1]\n",
        "  index_start = title.index(\"-\")\n",
        "  title = title[index_start+1 : ]\n",
        "  title = title.replace(\"-\", \" \")\n",
        "  titlesL.append(title)\n",
        "  title_words = title.split(\" \")\n",
        "  words_nbr = len(title_words)\n",
        "  words_nbrL.append(words_nbr)\n"
      ],
      "metadata": {
        "id": "ZeWxL0e6QcuQ"
      },
      "execution_count": 18,
      "outputs": []
    },
    {
      "cell_type": "code",
      "source": [
        "print(titlesL)\n",
        "print(words_nbrL)"
      ],
      "metadata": {
        "colab": {
          "base_uri": "https://localhost:8080/"
        },
        "id": "RZEejOU1j2r4",
        "outputId": "35548ba0-7832-4892-d240-ffe8ed427da6"
      },
      "execution_count": 19,
      "outputs": [
        {
          "output_type": "stream",
          "name": "stdout",
          "text": [
            "['se skotosei i patriarhia tha se xylofortosei i astynomia', 'houses stin perifereia kathe astynomikis dieythynsis katopin eortis', 'lexi poy kaiei', 'bia odigies tis astynomias gia tin kataggelia ton']\n",
            "[9, 8, 3, 8]\n"
          ]
        }
      ]
    }
  ]
}