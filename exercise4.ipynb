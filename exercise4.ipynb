{
  "nbformat": 4,
  "nbformat_minor": 0,
  "metadata": {
    "colab": {
      "provenance": [],
      "include_colab_link": true
    },
    "kernelspec": {
      "name": "python3",
      "display_name": "Python 3"
    },
    "language_info": {
      "name": "python"
    }
  },
  "cells": [
    {
      "cell_type": "markdown",
      "metadata": {
        "id": "view-in-github",
        "colab_type": "text"
      },
      "source": [
        "<a href=\"https://colab.research.google.com/github/vasill23/classwork1_vasilikizafeiropoulou/blob/main/exercise4.ipynb\" target=\"_parent\"><img src=\"https://colab.research.google.com/assets/colab-badge.svg\" alt=\"Open In Colab\"/></a>"
      ]
    },
    {
      "cell_type": "markdown",
      "source": [
        "### Άσκηση 1\n",
        "\n",
        "Φτιάξτε ένα νέο κελί κώδικα ακριβώς από κάτω και:\n",
        "\n",
        "- Φτιάξτε μια λίστα με όνομα titlesL και βάλτε μέσα τους τίτλους 3 αγαπημένων σας ταινιών\n",
        "- Φτιάξτε άλλη μια λίστα με όνομα ratingsL και βάλτε μέσα το βαθμό (από το 1 έως το 10) που θα βάζατε σε καθε μια από τις ταινίες\n",
        "- Φτιάξτε μια for loop που να τρέχει για όλα τα αντικείμενα της λίστας των ταινιών και να τυπώνει το όνομά της και το βαθμό της.\n",
        "\n",
        "Hints:\n",
        "Δεδομενου ότι οι δύο λίστες έχουν τον ίδιο αριθμό αντικειμένων και η σειρά των βαθμολογιών αντιστοιχεί στη σειρά των ταινιών, μπορείτε να χρησιμοποιήσετε τον αριθμό του index και την range() σε συνδυασμό με τη len().\n",
        "\n",
        "**Γράψτε σε comment τι κάνει η κάθε γραμμή του κώδικά σας.**\n"
      ],
      "metadata": {
        "id": "QOAgGYGWvJIp"
      }
    },
    {
      "cell_type": "code",
      "source": [
        "titltesL=[\"the office\", \"Bojack Horseman\", \"Rick and Morty\"]\n",
        "ratingsL=[9, 10, 8]"
      ],
      "metadata": {
        "id": "wxuW62Ly2z8q"
      },
      "execution_count": 12,
      "outputs": []
    },
    {
      "cell_type": "code",
      "source": [
        "for i in range(len(titltesL)):\n",
        "    print(titltesL[i], ratingsL[i])"
      ],
      "metadata": {
        "id": "8JXaUEm4YcZl",
        "outputId": "6746c1bd-a397-443c-d050-5e387e736117",
        "colab": {
          "base_uri": "https://localhost:8080/"
        }
      },
      "execution_count": 14,
      "outputs": [
        {
          "output_type": "stream",
          "name": "stdout",
          "text": [
            "the office 9\n",
            "Bojack Horseman 10\n",
            "Rick and Morty 8\n"
          ]
        }
      ]
    },
    {
      "cell_type": "markdown",
      "source": [
        "### Άσκηση 2\n",
        "\n",
        "Φτιάξτε ένα νέο κελί κώδικα ακριβώς από κάτω και:\n",
        "\n",
        "- Φτιάξτε μια λίστα με όνομα titlesL και βάλτε μέσα τους τίτλους 3 αγαπημένων σας ταινιών\n",
        "- Φτιάξτε άλλη μια λίστα με όνομα ratingsL και βάλτε μέσα το βαθμό (από το 1 έως το 10) που θα βάζατε σε καθε μια από τις ταινίες\n",
        "\n",
        "**Αν κάνατε την προηγούμενη άσκηση, χρησιμοποιήστε τις ήδη δημιουργημένες λίστες titlesL και ratingsL - δλδ μην φτιάξετε καινούριες λίστες για το ίδιο πράγμα**\n",
        "\n",
        "- Φτιάξτε μια κενή λίστα με όνομα moviesL\n",
        "\n",
        "Φτιάξτε μια for loop που να τρέχει για όλα τα indexes της λίστας των ταινιών και να κάνει τα παρακάτω:\n",
        "- δημιουργεί ένα κενό λεξικό με όνομα movieD\n",
        "- φτιάχνει ένα item στο λεξικό με όνομα κλειδιού \"title\" και τιμή τον τίτλο που αντιστοιχεί στο εκάστοτε index της λίστας titlesL\n",
        "- φτιάχνει ένα item στο λεξικό με όνομα κλειδιού \"rating\" και τιμή το rating που αντιστοιχεδί στο εκάστοτε index της λίστας ratingsL\n",
        "- προσθέτει το λεξικό στη λίστα moviesL\n",
        "\n",
        "Τέλος, τυπώστε τη λίστα moviesL.\n",
        "\n",
        "**Γράψτε σε comment τι κάνει η κάθε γραμμή του κώδικά σας.**\n"
      ],
      "metadata": {
        "id": "TjFqUapc0JMr"
      }
    },
    {
      "cell_type": "code",
      "source": [
        "titltesL=[\"the office\", \"Bojack Horseman\", \"Rick and Morty\"] #δημιουργεί την πρώτη λίστα\n",
        "ratingsL=[9, 10, 8] #δημιουργεί δεύτερη λίστα\n",
        "moviesL = [] #δημιουργεί μια τρίτη κενή λίστα\n",
        "for i in range(len(titltesL)): #δημιουργεί μια λούπα όπου για κάθε αντικείμενο στην λίστα titlesL:\n",
        "    movieD = {}               #δημιουργεί ένα λεξικό\n",
        "    movieD[\"title\"] = titltesL[i] #ορίζει ότι 'title' είναι κάθε αντικείμενο της λίστας titlesL\n",
        "    movieD[\"rating\"] = ratingsL[i] #ορίζει ότι 'rating' είναι κάθε ανικείμενο της λίστας ratingL\n",
        "    moviesL.append(movieD) #προσθέτει στην λίστα moviesL το λεξικό\n",
        "moviesL #κάνει print την λίστα"
      ],
      "metadata": {
        "id": "gDcAB6eG8AbC",
        "outputId": "b355a23a-7e9f-4a22-8108-8a670677f812",
        "colab": {
          "base_uri": "https://localhost:8080/"
        }
      },
      "execution_count": 16,
      "outputs": [
        {
          "output_type": "execute_result",
          "data": {
            "text/plain": [
              "[{'title': 'the office', 'rating': 9},\n",
              " {'title': 'Bojack Horseman', 'rating': 10},\n",
              " {'title': 'Rick and Morty', 'rating': 8}]"
            ]
          },
          "metadata": {},
          "execution_count": 16
        }
      ]
    },
    {
      "cell_type": "markdown",
      "source": [
        "### Άσκηση 3\n",
        "\n",
        "Γράψτε ένα προγραμματάκι που θα αθροίζει όλους τους περιττούς αριθμούς από το 1 έως και το 100 και θα τυπώνει το τελικό άθροισμα.\n",
        "\n",
        "Hints & tips:\n",
        "\n",
        "- περιττοί είναι οι αριθμοί που το υπόλοιπο της διαίρεσής τους με το 2 ΔΕΝ είναι 0 (x % 2 != 0)\n",
        "- μπορούμε αρχικά να ορίσουμε ότι το άθροισμα των περιττών αριθμών είναι 0 (sum = 0)\n",
        "- στη συνέχεια μπορούμε να φτιάξουμε μια λούπα που θα κάνει τα εξής:\n",
        "  - για κάθε αριθμό από το 1 ως και το 100\n",
        "  - αν το υπόλοιπο της διαίρεσης του αριθμού με το 2 δεν είναι 0\n",
        "  - το άθροισμα θα αυξάνεται κατά τον αριθμό\n"
      ],
      "metadata": {
        "id": "_0torHabJHFA"
      }
    },
    {
      "cell_type": "code",
      "execution_count": 19,
      "metadata": {
        "id": "rKIkwJofI3Cj",
        "outputId": "14a4fbec-9748-4cfe-da49-b383120f127e",
        "colab": {
          "base_uri": "https://localhost:8080/"
        }
      },
      "outputs": [
        {
          "output_type": "stream",
          "name": "stdout",
          "text": [
            "Το άθροισμα των περιττών αριθμών από το 1 έως το 100 είναι: 2500\n"
          ]
        }
      ],
      "source": [
        "sum = 0\n",
        "\n",
        "for number in range(1, 101):\n",
        "    if number % 2 != 0:\n",
        "        sum += number\n",
        "\n",
        "print(\"Το άθροισμα των περιττών αριθμών από το 1 έως το 100 είναι:\", sum)"
      ]
    },
    {
      "cell_type": "markdown",
      "source": [
        "### Άσκηση 4\n",
        "\n",
        "Τροποποιήστε το παραπάνω πρόγραμμα έτσι ώστε, εκτός από το άθροισμα των περιττών, να υπολογίζει και να τυπώνει ΚΑΙ:\n",
        "- το πλήθος των περιττών αριθμών\n",
        "- το άθροισμα των ζυγών αριθμών στο ίδιο εύρος\n",
        "- το πλήθος των ζυγών αριθμών"
      ],
      "metadata": {
        "id": "zvsE7AANokOf"
      }
    },
    {
      "cell_type": "code",
      "source": [
        "odd_sum = 0\n",
        "odd_count = 0\n",
        "even_sum = 0\n",
        "even_count = 0\n",
        "\n",
        "for number in range(1, 101):\n",
        "    if number % 2 != 0:\n",
        "        odd_sum += number\n",
        "        odd_count += 1\n",
        "    else:\n",
        "        even_sum += number\n",
        "        even_count += 1\n",
        "\n",
        "print(\"Άθροισμα περιττών αριθμών:\", odd_sum)\n",
        "print(\"Πλήθος περιττών αριθμών:\", odd_count)\n",
        "print(\"Άθροισμα ζυγών αριθμών:\", even_sum)\n",
        "print(\"Πλήθος ζυγών αριθμών:\", even_count)"
      ],
      "metadata": {
        "id": "Wza4cHEzO1Y_",
        "outputId": "4f6b249c-279a-49ea-e687-32659dc25789",
        "colab": {
          "base_uri": "https://localhost:8080/"
        }
      },
      "execution_count": 20,
      "outputs": [
        {
          "output_type": "stream",
          "name": "stdout",
          "text": [
            "Άθροισμα περιττών αριθμών: 2500\n",
            "Πλήθος περιττών αριθμών: 50\n",
            "Άθροισμα ζυγών αριθμών: 2550\n",
            "Πλήθος ζυγών αριθμών: 50\n"
          ]
        }
      ]
    }
  ]
}